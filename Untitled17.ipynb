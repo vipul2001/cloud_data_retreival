{
 "cells": [
  {
   "cell_type": "code",
   "execution_count": 1,
   "metadata": {},
   "outputs": [],
   "source": [
    "import pandas as pd"
   ]
  },
  {
   "cell_type": "code",
   "execution_count": 2,
   "metadata": {},
   "outputs": [],
   "source": [
    "import numpy as np"
   ]
  },
  {
   "cell_type": "code",
   "execution_count": 3,
   "metadata": {},
   "outputs": [],
   "source": [
    "import matplotlib.pyplot as plt\n",
    "from scipy.stats import gaussian_kde\n"
   ]
  },
  {
   "cell_type": "code",
   "execution_count": 4,
   "metadata": {},
   "outputs": [],
   "source": [
    "data=pd.read_csv(\"train.csv\")"
   ]
  },
  {
   "cell_type": "code",
   "execution_count": 5,
   "metadata": {},
   "outputs": [],
   "source": [
    "data=data.drop(['Unnamed: 0','Unnamed: 0.1'],axis=1)"
   ]
  },
  {
   "cell_type": "code",
   "execution_count": 6,
   "metadata": {},
   "outputs": [
    {
     "data": {
      "text/html": [
       "<div>\n",
       "<style scoped>\n",
       "    .dataframe tbody tr th:only-of-type {\n",
       "        vertical-align: middle;\n",
       "    }\n",
       "\n",
       "    .dataframe tbody tr th {\n",
       "        vertical-align: top;\n",
       "    }\n",
       "\n",
       "    .dataframe thead th {\n",
       "        text-align: right;\n",
       "    }\n",
       "</style>\n",
       "<table border=\"1\" class=\"dataframe\">\n",
       "  <thead>\n",
       "    <tr style=\"text-align: right;\">\n",
       "      <th></th>\n",
       "      <th>Unnamed: 0_x</th>\n",
       "      <th>Unnamed: 0.1.1</th>\n",
       "      <th>lat</th>\n",
       "      <th>log</th>\n",
       "      <th>IMG_VIS</th>\n",
       "      <th>IMG_SWIR</th>\n",
       "      <th>Unnamed: 0_y</th>\n",
       "      <th>cot</th>\n",
       "      <th>cer</th>\n",
       "      <th>Sun_Elevation</th>\n",
       "      <th>Sat_Elevation</th>\n",
       "      <th>Sat_Azimuth</th>\n",
       "      <th>Sun_Azimuth</th>\n",
       "    </tr>\n",
       "  </thead>\n",
       "  <tbody>\n",
       "    <tr>\n",
       "      <td>0</td>\n",
       "      <td>173482</td>\n",
       "      <td>23185462</td>\n",
       "      <td>35.805</td>\n",
       "      <td>74.312</td>\n",
       "      <td>104</td>\n",
       "      <td>220</td>\n",
       "      <td>3452.0</td>\n",
       "      <td>1652.0</td>\n",
       "      <td>2103.0</td>\n",
       "      <td>7242.4785</td>\n",
       "      <td>4766.5020</td>\n",
       "      <td>16672.780</td>\n",
       "      <td>13892.247</td>\n",
       "    </tr>\n",
       "    <tr>\n",
       "      <td>1</td>\n",
       "      <td>200804</td>\n",
       "      <td>23320102</td>\n",
       "      <td>35.655</td>\n",
       "      <td>74.329</td>\n",
       "      <td>348</td>\n",
       "      <td>360</td>\n",
       "      <td>25121.0</td>\n",
       "      <td>1381.0</td>\n",
       "      <td>4783.0</td>\n",
       "      <td>7250.4710</td>\n",
       "      <td>4784.7915</td>\n",
       "      <td>16667.371</td>\n",
       "      <td>13865.129</td>\n",
       "    </tr>\n",
       "    <tr>\n",
       "      <td>2</td>\n",
       "      <td>209985</td>\n",
       "      <td>23365040</td>\n",
       "      <td>35.594</td>\n",
       "      <td>75.006</td>\n",
       "      <td>345</td>\n",
       "      <td>383</td>\n",
       "      <td>18411.0</td>\n",
       "      <td>629.0</td>\n",
       "      <td>533.0</td>\n",
       "      <td>7290.8180</td>\n",
       "      <td>4790.2646</td>\n",
       "      <td>16787.463</td>\n",
       "      <td>13977.955</td>\n",
       "    </tr>\n",
       "    <tr>\n",
       "      <td>3</td>\n",
       "      <td>237145</td>\n",
       "      <td>23499437</td>\n",
       "      <td>35.494</td>\n",
       "      <td>72.200</td>\n",
       "      <td>87</td>\n",
       "      <td>229</td>\n",
       "      <td>93992.0</td>\n",
       "      <td>1038.0</td>\n",
       "      <td>1340.0</td>\n",
       "      <td>7147.0380</td>\n",
       "      <td>4760.6500</td>\n",
       "      <td>16315.344</td>\n",
       "      <td>13320.322</td>\n",
       "    </tr>\n",
       "    <tr>\n",
       "      <td>4</td>\n",
       "      <td>255560</td>\n",
       "      <td>23589310</td>\n",
       "      <td>35.369</td>\n",
       "      <td>73.528</td>\n",
       "      <td>362</td>\n",
       "      <td>398</td>\n",
       "      <td>84634.0</td>\n",
       "      <td>1508.0</td>\n",
       "      <td>1658.0</td>\n",
       "      <td>7209.6396</td>\n",
       "      <td>4809.3570</td>\n",
       "      <td>16544.549</td>\n",
       "      <td>13580.420</td>\n",
       "    </tr>\n",
       "  </tbody>\n",
       "</table>\n",
       "</div>"
      ],
      "text/plain": [
       "   Unnamed: 0_x  Unnamed: 0.1.1     lat     log  IMG_VIS  IMG_SWIR  \\\n",
       "0        173482        23185462  35.805  74.312      104       220   \n",
       "1        200804        23320102  35.655  74.329      348       360   \n",
       "2        209985        23365040  35.594  75.006      345       383   \n",
       "3        237145        23499437  35.494  72.200       87       229   \n",
       "4        255560        23589310  35.369  73.528      362       398   \n",
       "\n",
       "   Unnamed: 0_y     cot     cer  Sun_Elevation  Sat_Elevation  Sat_Azimuth  \\\n",
       "0        3452.0  1652.0  2103.0      7242.4785      4766.5020    16672.780   \n",
       "1       25121.0  1381.0  4783.0      7250.4710      4784.7915    16667.371   \n",
       "2       18411.0   629.0   533.0      7290.8180      4790.2646    16787.463   \n",
       "3       93992.0  1038.0  1340.0      7147.0380      4760.6500    16315.344   \n",
       "4       84634.0  1508.0  1658.0      7209.6396      4809.3570    16544.549   \n",
       "\n",
       "   Sun_Azimuth  \n",
       "0    13892.247  \n",
       "1    13865.129  \n",
       "2    13977.955  \n",
       "3    13320.322  \n",
       "4    13580.420  "
      ]
     },
     "execution_count": 6,
     "metadata": {},
     "output_type": "execute_result"
    }
   ],
   "source": [
    "data.head()"
   ]
  },
  {
   "cell_type": "code",
   "execution_count": 7,
   "metadata": {},
   "outputs": [
    {
     "data": {
      "text/html": [
       "<div>\n",
       "<style scoped>\n",
       "    .dataframe tbody tr th:only-of-type {\n",
       "        vertical-align: middle;\n",
       "    }\n",
       "\n",
       "    .dataframe tbody tr th {\n",
       "        vertical-align: top;\n",
       "    }\n",
       "\n",
       "    .dataframe thead th {\n",
       "        text-align: right;\n",
       "    }\n",
       "</style>\n",
       "<table border=\"1\" class=\"dataframe\">\n",
       "  <thead>\n",
       "    <tr style=\"text-align: right;\">\n",
       "      <th></th>\n",
       "      <th>Unnamed: 0_x</th>\n",
       "      <th>Unnamed: 0.1.1</th>\n",
       "      <th>lat</th>\n",
       "      <th>log</th>\n",
       "      <th>IMG_VIS</th>\n",
       "      <th>IMG_SWIR</th>\n",
       "      <th>Unnamed: 0_y</th>\n",
       "      <th>cot</th>\n",
       "      <th>cer</th>\n",
       "      <th>Sun_Elevation</th>\n",
       "      <th>Sat_Elevation</th>\n",
       "      <th>Sat_Azimuth</th>\n",
       "      <th>Sun_Azimuth</th>\n",
       "    </tr>\n",
       "  </thead>\n",
       "  <tbody>\n",
       "    <tr>\n",
       "      <td>count</td>\n",
       "      <td>1.108200e+04</td>\n",
       "      <td>1.108200e+04</td>\n",
       "      <td>11082.000000</td>\n",
       "      <td>11082.000000</td>\n",
       "      <td>11082.000000</td>\n",
       "      <td>11082.000000</td>\n",
       "      <td>1.108200e+04</td>\n",
       "      <td>11082.000000</td>\n",
       "      <td>11082.000000</td>\n",
       "      <td>11082.000000</td>\n",
       "      <td>11082.000000</td>\n",
       "      <td>11082.000000</td>\n",
       "      <td>11082.000000</td>\n",
       "    </tr>\n",
       "    <tr>\n",
       "      <td>mean</td>\n",
       "      <td>2.924987e+06</td>\n",
       "      <td>3.561481e+07</td>\n",
       "      <td>23.434854</td>\n",
       "      <td>72.335039</td>\n",
       "      <td>289.387565</td>\n",
       "      <td>285.029327</td>\n",
       "      <td>1.850802e+06</td>\n",
       "      <td>2229.805631</td>\n",
       "      <td>1658.006136</td>\n",
       "      <td>7549.627529</td>\n",
       "      <td>5991.937718</td>\n",
       "      <td>15655.631828</td>\n",
       "      <td>9544.998792</td>\n",
       "    </tr>\n",
       "    <tr>\n",
       "      <td>std</td>\n",
       "      <td>9.964099e+05</td>\n",
       "      <td>4.319429e+06</td>\n",
       "      <td>4.059703</td>\n",
       "      <td>4.916060</td>\n",
       "      <td>113.902969</td>\n",
       "      <td>85.965256</td>\n",
       "      <td>6.434613e+05</td>\n",
       "      <td>1107.382338</td>\n",
       "      <td>1849.984263</td>\n",
       "      <td>411.269905</td>\n",
       "      <td>426.454803</td>\n",
       "      <td>1171.270689</td>\n",
       "      <td>2060.401819</td>\n",
       "    </tr>\n",
       "    <tr>\n",
       "      <td>min</td>\n",
       "      <td>1.734820e+05</td>\n",
       "      <td>2.318546e+07</td>\n",
       "      <td>16.169000</td>\n",
       "      <td>58.327000</td>\n",
       "      <td>58.000000</td>\n",
       "      <td>75.000000</td>\n",
       "      <td>3.452000e+03</td>\n",
       "      <td>458.000000</td>\n",
       "      <td>41.000000</td>\n",
       "      <td>6307.656700</td>\n",
       "      <td>4760.650000</td>\n",
       "      <td>12826.069000</td>\n",
       "      <td>5074.330000</td>\n",
       "    </tr>\n",
       "    <tr>\n",
       "      <td>25%</td>\n",
       "      <td>2.296096e+06</td>\n",
       "      <td>3.298016e+07</td>\n",
       "      <td>20.226500</td>\n",
       "      <td>68.998000</td>\n",
       "      <td>196.000000</td>\n",
       "      <td>213.000000</td>\n",
       "      <td>1.471431e+06</td>\n",
       "      <td>1287.000000</td>\n",
       "      <td>552.000000</td>\n",
       "      <td>7283.312175</td>\n",
       "      <td>5709.436500</td>\n",
       "      <td>14768.423000</td>\n",
       "      <td>8006.537000</td>\n",
       "    </tr>\n",
       "    <tr>\n",
       "      <td>50%</td>\n",
       "      <td>3.058829e+06</td>\n",
       "      <td>3.626685e+07</td>\n",
       "      <td>22.759000</td>\n",
       "      <td>72.533000</td>\n",
       "      <td>286.000000</td>\n",
       "      <td>271.000000</td>\n",
       "      <td>1.978570e+06</td>\n",
       "      <td>1923.000000</td>\n",
       "      <td>1054.000000</td>\n",
       "      <td>7572.951700</td>\n",
       "      <td>5988.944300</td>\n",
       "      <td>15677.727000</td>\n",
       "      <td>9099.668000</td>\n",
       "    </tr>\n",
       "    <tr>\n",
       "      <td>75%</td>\n",
       "      <td>3.725617e+06</td>\n",
       "      <td>3.906916e+07</td>\n",
       "      <td>25.774250</td>\n",
       "      <td>75.850000</td>\n",
       "      <td>376.000000</td>\n",
       "      <td>356.000000</td>\n",
       "      <td>2.362581e+06</td>\n",
       "      <td>3127.750000</td>\n",
       "      <td>2056.000000</td>\n",
       "      <td>7835.732250</td>\n",
       "      <td>6289.988300</td>\n",
       "      <td>16553.810000</td>\n",
       "      <td>10473.271000</td>\n",
       "    </tr>\n",
       "    <tr>\n",
       "      <td>max</td>\n",
       "      <td>4.829384e+06</td>\n",
       "      <td>4.359499e+07</td>\n",
       "      <td>35.805000</td>\n",
       "      <td>85.281000</td>\n",
       "      <td>586.000000</td>\n",
       "      <td>535.000000</td>\n",
       "      <td>2.747091e+06</td>\n",
       "      <td>5998.000000</td>\n",
       "      <td>15000.000000</td>\n",
       "      <td>8509.154000</td>\n",
       "      <td>7073.018600</td>\n",
       "      <td>18624.562000</td>\n",
       "      <td>17432.060000</td>\n",
       "    </tr>\n",
       "  </tbody>\n",
       "</table>\n",
       "</div>"
      ],
      "text/plain": [
       "       Unnamed: 0_x  Unnamed: 0.1.1           lat           log       IMG_VIS  \\\n",
       "count  1.108200e+04    1.108200e+04  11082.000000  11082.000000  11082.000000   \n",
       "mean   2.924987e+06    3.561481e+07     23.434854     72.335039    289.387565   \n",
       "std    9.964099e+05    4.319429e+06      4.059703      4.916060    113.902969   \n",
       "min    1.734820e+05    2.318546e+07     16.169000     58.327000     58.000000   \n",
       "25%    2.296096e+06    3.298016e+07     20.226500     68.998000    196.000000   \n",
       "50%    3.058829e+06    3.626685e+07     22.759000     72.533000    286.000000   \n",
       "75%    3.725617e+06    3.906916e+07     25.774250     75.850000    376.000000   \n",
       "max    4.829384e+06    4.359499e+07     35.805000     85.281000    586.000000   \n",
       "\n",
       "           IMG_SWIR  Unnamed: 0_y           cot           cer  Sun_Elevation  \\\n",
       "count  11082.000000  1.108200e+04  11082.000000  11082.000000   11082.000000   \n",
       "mean     285.029327  1.850802e+06   2229.805631   1658.006136    7549.627529   \n",
       "std       85.965256  6.434613e+05   1107.382338   1849.984263     411.269905   \n",
       "min       75.000000  3.452000e+03    458.000000     41.000000    6307.656700   \n",
       "25%      213.000000  1.471431e+06   1287.000000    552.000000    7283.312175   \n",
       "50%      271.000000  1.978570e+06   1923.000000   1054.000000    7572.951700   \n",
       "75%      356.000000  2.362581e+06   3127.750000   2056.000000    7835.732250   \n",
       "max      535.000000  2.747091e+06   5998.000000  15000.000000    8509.154000   \n",
       "\n",
       "       Sat_Elevation   Sat_Azimuth   Sun_Azimuth  \n",
       "count   11082.000000  11082.000000  11082.000000  \n",
       "mean     5991.937718  15655.631828   9544.998792  \n",
       "std       426.454803   1171.270689   2060.401819  \n",
       "min      4760.650000  12826.069000   5074.330000  \n",
       "25%      5709.436500  14768.423000   8006.537000  \n",
       "50%      5988.944300  15677.727000   9099.668000  \n",
       "75%      6289.988300  16553.810000  10473.271000  \n",
       "max      7073.018600  18624.562000  17432.060000  "
      ]
     },
     "execution_count": 7,
     "metadata": {},
     "output_type": "execute_result"
    }
   ],
   "source": [
    "data.describe()"
   ]
  },
  {
   "cell_type": "code",
   "execution_count": 8,
   "metadata": {},
   "outputs": [
    {
     "data": {
      "text/html": [
       "<div>\n",
       "<style scoped>\n",
       "    .dataframe tbody tr th:only-of-type {\n",
       "        vertical-align: middle;\n",
       "    }\n",
       "\n",
       "    .dataframe tbody tr th {\n",
       "        vertical-align: top;\n",
       "    }\n",
       "\n",
       "    .dataframe thead th {\n",
       "        text-align: right;\n",
       "    }\n",
       "</style>\n",
       "<table border=\"1\" class=\"dataframe\">\n",
       "  <thead>\n",
       "    <tr style=\"text-align: right;\">\n",
       "      <th></th>\n",
       "      <th>Unnamed: 0_x</th>\n",
       "      <th>Unnamed: 0.1.1</th>\n",
       "      <th>lat</th>\n",
       "      <th>log</th>\n",
       "      <th>IMG_VIS</th>\n",
       "      <th>IMG_SWIR</th>\n",
       "      <th>Unnamed: 0_y</th>\n",
       "      <th>cot</th>\n",
       "      <th>cer</th>\n",
       "      <th>Sun_Elevation</th>\n",
       "      <th>Sat_Elevation</th>\n",
       "      <th>Sat_Azimuth</th>\n",
       "      <th>Sun_Azimuth</th>\n",
       "    </tr>\n",
       "  </thead>\n",
       "  <tbody>\n",
       "    <tr>\n",
       "      <td>Unnamed: 0_x</td>\n",
       "      <td>1.000000</td>\n",
       "      <td>0.999731</td>\n",
       "      <td>-0.998542</td>\n",
       "      <td>-0.351973</td>\n",
       "      <td>-0.022617</td>\n",
       "      <td>-0.211380</td>\n",
       "      <td>0.985901</td>\n",
       "      <td>0.034144</td>\n",
       "      <td>-0.031509</td>\n",
       "      <td>-0.203938</td>\n",
       "      <td>0.861179</td>\n",
       "      <td>-0.534417</td>\n",
       "      <td>-0.954832</td>\n",
       "    </tr>\n",
       "    <tr>\n",
       "      <td>Unnamed: 0.1.1</td>\n",
       "      <td>0.999731</td>\n",
       "      <td>1.000000</td>\n",
       "      <td>-0.999463</td>\n",
       "      <td>-0.355541</td>\n",
       "      <td>-0.019235</td>\n",
       "      <td>-0.213015</td>\n",
       "      <td>0.987342</td>\n",
       "      <td>0.037714</td>\n",
       "      <td>-0.028742</td>\n",
       "      <td>-0.202870</td>\n",
       "      <td>0.860967</td>\n",
       "      <td>-0.536391</td>\n",
       "      <td>-0.955626</td>\n",
       "    </tr>\n",
       "    <tr>\n",
       "      <td>lat</td>\n",
       "      <td>-0.998542</td>\n",
       "      <td>-0.999463</td>\n",
       "      <td>1.000000</td>\n",
       "      <td>0.344718</td>\n",
       "      <td>0.005924</td>\n",
       "      <td>0.213745</td>\n",
       "      <td>-0.985961</td>\n",
       "      <td>-0.049036</td>\n",
       "      <td>0.020148</td>\n",
       "      <td>0.185545</td>\n",
       "      <td>-0.868253</td>\n",
       "      <td>0.525202</td>\n",
       "      <td>0.954067</td>\n",
       "    </tr>\n",
       "    <tr>\n",
       "      <td>log</td>\n",
       "      <td>-0.351973</td>\n",
       "      <td>-0.355541</td>\n",
       "      <td>0.344718</td>\n",
       "      <td>1.000000</td>\n",
       "      <td>0.447293</td>\n",
       "      <td>0.145408</td>\n",
       "      <td>-0.495517</td>\n",
       "      <td>0.316987</td>\n",
       "      <td>0.265108</td>\n",
       "      <td>0.962109</td>\n",
       "      <td>0.141678</td>\n",
       "      <td>0.971986</td>\n",
       "      <td>0.457858</td>\n",
       "    </tr>\n",
       "    <tr>\n",
       "      <td>IMG_VIS</td>\n",
       "      <td>-0.022617</td>\n",
       "      <td>-0.019235</td>\n",
       "      <td>0.005924</td>\n",
       "      <td>0.447293</td>\n",
       "      <td>1.000000</td>\n",
       "      <td>0.178497</td>\n",
       "      <td>-0.078588</td>\n",
       "      <td>0.420898</td>\n",
       "      <td>0.657961</td>\n",
       "      <td>0.517941</td>\n",
       "      <td>0.271495</td>\n",
       "      <td>0.410207</td>\n",
       "      <td>0.004234</td>\n",
       "    </tr>\n",
       "    <tr>\n",
       "      <td>IMG_SWIR</td>\n",
       "      <td>-0.211380</td>\n",
       "      <td>-0.213015</td>\n",
       "      <td>0.213745</td>\n",
       "      <td>0.145408</td>\n",
       "      <td>0.178497</td>\n",
       "      <td>1.000000</td>\n",
       "      <td>-0.222616</td>\n",
       "      <td>-0.526543</td>\n",
       "      <td>0.050988</td>\n",
       "      <td>0.097874</td>\n",
       "      <td>-0.149095</td>\n",
       "      <td>0.171789</td>\n",
       "      <td>0.203990</td>\n",
       "    </tr>\n",
       "    <tr>\n",
       "      <td>Unnamed: 0_y</td>\n",
       "      <td>0.985901</td>\n",
       "      <td>0.987342</td>\n",
       "      <td>-0.985961</td>\n",
       "      <td>-0.495517</td>\n",
       "      <td>-0.078588</td>\n",
       "      <td>-0.222616</td>\n",
       "      <td>1.000000</td>\n",
       "      <td>-0.007045</td>\n",
       "      <td>-0.062770</td>\n",
       "      <td>-0.340876</td>\n",
       "      <td>0.780690</td>\n",
       "      <td>-0.658627</td>\n",
       "      <td>-0.965825</td>\n",
       "    </tr>\n",
       "    <tr>\n",
       "      <td>cot</td>\n",
       "      <td>0.034144</td>\n",
       "      <td>0.037714</td>\n",
       "      <td>-0.049036</td>\n",
       "      <td>0.316987</td>\n",
       "      <td>0.420898</td>\n",
       "      <td>-0.526543</td>\n",
       "      <td>-0.007045</td>\n",
       "      <td>1.000000</td>\n",
       "      <td>0.201055</td>\n",
       "      <td>0.389462</td>\n",
       "      <td>0.250510</td>\n",
       "      <td>0.282464</td>\n",
       "      <td>-0.031961</td>\n",
       "    </tr>\n",
       "    <tr>\n",
       "      <td>cer</td>\n",
       "      <td>-0.031509</td>\n",
       "      <td>-0.028742</td>\n",
       "      <td>0.020148</td>\n",
       "      <td>0.265108</td>\n",
       "      <td>0.657961</td>\n",
       "      <td>0.050988</td>\n",
       "      <td>-0.062770</td>\n",
       "      <td>0.201055</td>\n",
       "      <td>1.000000</td>\n",
       "      <td>0.312242</td>\n",
       "      <td>0.136718</td>\n",
       "      <td>0.252340</td>\n",
       "      <td>0.015311</td>\n",
       "    </tr>\n",
       "    <tr>\n",
       "      <td>Sun_Elevation</td>\n",
       "      <td>-0.203938</td>\n",
       "      <td>-0.202870</td>\n",
       "      <td>0.185545</td>\n",
       "      <td>0.962109</td>\n",
       "      <td>0.517941</td>\n",
       "      <td>0.097874</td>\n",
       "      <td>-0.340876</td>\n",
       "      <td>0.389462</td>\n",
       "      <td>0.312242</td>\n",
       "      <td>1.000000</td>\n",
       "      <td>0.304102</td>\n",
       "      <td>0.918467</td>\n",
       "      <td>0.292662</td>\n",
       "    </tr>\n",
       "    <tr>\n",
       "      <td>Sat_Elevation</td>\n",
       "      <td>0.861179</td>\n",
       "      <td>0.860967</td>\n",
       "      <td>-0.868253</td>\n",
       "      <td>0.141678</td>\n",
       "      <td>0.271495</td>\n",
       "      <td>-0.149095</td>\n",
       "      <td>0.780690</td>\n",
       "      <td>0.250510</td>\n",
       "      <td>0.136718</td>\n",
       "      <td>0.304102</td>\n",
       "      <td>1.000000</td>\n",
       "      <td>-0.059983</td>\n",
       "      <td>-0.793172</td>\n",
       "    </tr>\n",
       "    <tr>\n",
       "      <td>Sat_Azimuth</td>\n",
       "      <td>-0.534417</td>\n",
       "      <td>-0.536391</td>\n",
       "      <td>0.525202</td>\n",
       "      <td>0.971986</td>\n",
       "      <td>0.410207</td>\n",
       "      <td>0.171789</td>\n",
       "      <td>-0.658627</td>\n",
       "      <td>0.282464</td>\n",
       "      <td>0.252340</td>\n",
       "      <td>0.918467</td>\n",
       "      <td>-0.059983</td>\n",
       "      <td>1.000000</td>\n",
       "      <td>0.605420</td>\n",
       "    </tr>\n",
       "    <tr>\n",
       "      <td>Sun_Azimuth</td>\n",
       "      <td>-0.954832</td>\n",
       "      <td>-0.955626</td>\n",
       "      <td>0.954067</td>\n",
       "      <td>0.457858</td>\n",
       "      <td>0.004234</td>\n",
       "      <td>0.203990</td>\n",
       "      <td>-0.965825</td>\n",
       "      <td>-0.031961</td>\n",
       "      <td>0.015311</td>\n",
       "      <td>0.292662</td>\n",
       "      <td>-0.793172</td>\n",
       "      <td>0.605420</td>\n",
       "      <td>1.000000</td>\n",
       "    </tr>\n",
       "  </tbody>\n",
       "</table>\n",
       "</div>"
      ],
      "text/plain": [
       "                Unnamed: 0_x  Unnamed: 0.1.1       lat       log   IMG_VIS  \\\n",
       "Unnamed: 0_x        1.000000        0.999731 -0.998542 -0.351973 -0.022617   \n",
       "Unnamed: 0.1.1      0.999731        1.000000 -0.999463 -0.355541 -0.019235   \n",
       "lat                -0.998542       -0.999463  1.000000  0.344718  0.005924   \n",
       "log                -0.351973       -0.355541  0.344718  1.000000  0.447293   \n",
       "IMG_VIS            -0.022617       -0.019235  0.005924  0.447293  1.000000   \n",
       "IMG_SWIR           -0.211380       -0.213015  0.213745  0.145408  0.178497   \n",
       "Unnamed: 0_y        0.985901        0.987342 -0.985961 -0.495517 -0.078588   \n",
       "cot                 0.034144        0.037714 -0.049036  0.316987  0.420898   \n",
       "cer                -0.031509       -0.028742  0.020148  0.265108  0.657961   \n",
       "Sun_Elevation      -0.203938       -0.202870  0.185545  0.962109  0.517941   \n",
       "Sat_Elevation       0.861179        0.860967 -0.868253  0.141678  0.271495   \n",
       "Sat_Azimuth        -0.534417       -0.536391  0.525202  0.971986  0.410207   \n",
       "Sun_Azimuth        -0.954832       -0.955626  0.954067  0.457858  0.004234   \n",
       "\n",
       "                IMG_SWIR  Unnamed: 0_y       cot       cer  Sun_Elevation  \\\n",
       "Unnamed: 0_x   -0.211380      0.985901  0.034144 -0.031509      -0.203938   \n",
       "Unnamed: 0.1.1 -0.213015      0.987342  0.037714 -0.028742      -0.202870   \n",
       "lat             0.213745     -0.985961 -0.049036  0.020148       0.185545   \n",
       "log             0.145408     -0.495517  0.316987  0.265108       0.962109   \n",
       "IMG_VIS         0.178497     -0.078588  0.420898  0.657961       0.517941   \n",
       "IMG_SWIR        1.000000     -0.222616 -0.526543  0.050988       0.097874   \n",
       "Unnamed: 0_y   -0.222616      1.000000 -0.007045 -0.062770      -0.340876   \n",
       "cot            -0.526543     -0.007045  1.000000  0.201055       0.389462   \n",
       "cer             0.050988     -0.062770  0.201055  1.000000       0.312242   \n",
       "Sun_Elevation   0.097874     -0.340876  0.389462  0.312242       1.000000   \n",
       "Sat_Elevation  -0.149095      0.780690  0.250510  0.136718       0.304102   \n",
       "Sat_Azimuth     0.171789     -0.658627  0.282464  0.252340       0.918467   \n",
       "Sun_Azimuth     0.203990     -0.965825 -0.031961  0.015311       0.292662   \n",
       "\n",
       "                Sat_Elevation  Sat_Azimuth  Sun_Azimuth  \n",
       "Unnamed: 0_x         0.861179    -0.534417    -0.954832  \n",
       "Unnamed: 0.1.1       0.860967    -0.536391    -0.955626  \n",
       "lat                 -0.868253     0.525202     0.954067  \n",
       "log                  0.141678     0.971986     0.457858  \n",
       "IMG_VIS              0.271495     0.410207     0.004234  \n",
       "IMG_SWIR            -0.149095     0.171789     0.203990  \n",
       "Unnamed: 0_y         0.780690    -0.658627    -0.965825  \n",
       "cot                  0.250510     0.282464    -0.031961  \n",
       "cer                  0.136718     0.252340     0.015311  \n",
       "Sun_Elevation        0.304102     0.918467     0.292662  \n",
       "Sat_Elevation        1.000000    -0.059983    -0.793172  \n",
       "Sat_Azimuth         -0.059983     1.000000     0.605420  \n",
       "Sun_Azimuth         -0.793172     0.605420     1.000000  "
      ]
     },
     "execution_count": 8,
     "metadata": {},
     "output_type": "execute_result"
    }
   ],
   "source": [
    "data.corr()"
   ]
  },
  {
   "cell_type": "code",
   "execution_count": 9,
   "metadata": {},
   "outputs": [
    {
     "data": {
      "text/plain": [
       "Index(['Unnamed: 0_x', 'Unnamed: 0.1.1', 'lat', 'log', 'IMG_VIS', 'IMG_SWIR',\n",
       "       'Unnamed: 0_y', 'cot', 'cer', 'Sun_Elevation', 'Sat_Elevation',\n",
       "       'Sat_Azimuth', 'Sun_Azimuth'],\n",
       "      dtype='object')"
      ]
     },
     "execution_count": 9,
     "metadata": {},
     "output_type": "execute_result"
    }
   ],
   "source": [
    "data.columns"
   ]
  },
  {
   "cell_type": "code",
   "execution_count": 53,
   "metadata": {},
   "outputs": [],
   "source": [
    "import seaborn as sns\n",
    "from sklearn.model_selection import train_test_split\n",
    "from xgboost import XGBRegressor"
   ]
  },
  {
   "cell_type": "code",
   "execution_count": 57,
   "metadata": {},
   "outputs": [
    {
     "data": {
      "text/plain": [
       "<matplotlib.axes._subplots.AxesSubplot at 0x221a216a508>"
      ]
     },
     "execution_count": 57,
     "metadata": {},
     "output_type": "execute_result"
    },
    {
     "data": {
      "image/png": "[encoded data removed]",
      "text/plain": [
       "<Figure size 432x288 with 1 Axes>"
      ]
     },
     "metadata": {
      "needs_background": "light"
     },
     "output_type": "display_data"
    }
   ],
   "source": [
    "sns.distplot(data['IMG_VIS'])"
   ]
  },
  {
   "cell_type": "code",
   "execution_count": 58,
   "metadata": {},
   "outputs": [
    {
     "data": {
      "text/plain": [
       "<matplotlib.axes._subplots.AxesSubplot at 0x221a2381dc8>"
      ]
     },
     "execution_count": 58,
     "metadata": {},
     "output_type": "execute_result"
    },
    {
     "data": {
      "image/png": "[encoded data removed]",
      "text/plain": [
       "<Figure size 432x288 with 1 Axes>"
      ]
     },
     "metadata": {
      "needs_background": "light"
     },
     "output_type": "display_data"
    }
   ],
   "source": [
    "sns.distplot(data['IMG_SWIR'])"
   ]
  },
  {
   "cell_type": "code",
   "execution_count": 54,
   "metadata": {},
   "outputs": [
    {
     "data": {
      "text/plain": [
       "<matplotlib.axes._subplots.AxesSubplot at 0x221a00554c8>"
      ]
     },
     "execution_count": 54,
     "metadata": {},
     "output_type": "execute_result"
    },
    {
     "data": {
      "image/png": "[encoded data removed]",
      "text/plain": [
       "<Figure size 432x288 with 1 Axes>"
      ]
     },
     "metadata": {
      "needs_background": "light"
     },
     "output_type": "display_data"
    }
   ],
   "source": [
    "sns.distplot(data['cot'])"
   ]
  },
  {
   "cell_type": "code",
   "execution_count": 56,
   "metadata": {},
   "outputs": [
    {
     "data": {
      "text/plain": [
       "<matplotlib.axes._subplots.AxesSubplot at 0x221a216afc8>"
      ]
     },
     "execution_count": 56,
     "metadata": {},
     "output_type": "execute_result"
    },
    {
     "data": {
      "image/png": "[encoded data removed]",
      "text/plain": [
       "<Figure size 432x288 with 1 Axes>"
      ]
     },
     "metadata": {
      "needs_background": "light"
     },
     "output_type": "display_data"
    }
   ],
   "source": [
    "sns.distplot(data['cer'])"
   ]
  },
  {
   "cell_type": "code",
   "execution_count": 73,
   "metadata": {},
   "outputs": [
    {
     "data": {
      "text/plain": [
       "<matplotlib.collections.PathCollection at 0x221a396ae48>"
      ]
     },
     "execution_count": 73,
     "metadata": {},
     "output_type": "execute_result"
    },
    {
     "data": {
      "image/png": "[encoded data removed]",
      "text/plain": [
       "<Figure size 432x288 with 1 Axes>"
      ]
     },
     "metadata": {
      "needs_background": "light"
     },
     "output_type": "display_data"
    }
   ],
   "source": [
    "plt.scatter(data['cot'],(-data['IMG_SWIR']+data['IMG_SWIR'].max()))#/data['IMG_SWIR'].std())"
   ]
  },
  {
   "cell_type": "code",
   "execution_count": 77,
   "metadata": {},
   "outputs": [
    {
     "data": {
      "text/plain": [
       "<matplotlib.collections.PathCollection at 0x221a3aece48>"
      ]
     },
     "execution_count": 77,
     "metadata": {},
     "output_type": "execute_result"
    },
    {
     "data": {
      "image/png": "[encoded data removed]",
      "text/plain": [
       "<Figure size 432x288 with 1 Axes>"
      ]
     },
     "metadata": {
      "needs_background": "light"
     },
     "output_type": "display_data"
    }
   ],
   "source": [
    "plt.scatter(data['cer'],(-data['IMG_VIS']+data['IMG_VIS'].max()))#/data['IMG_SWIR'].std())"
   ]
  },
  {
   "cell_type": "code",
   "execution_count": null,
   "metadata": {},
   "outputs": [],
   "source": []
  },
  {
   "cell_type": "code",
   "execution_count": null,
   "metadata": {},
   "outputs": [],
   "source": []
  },
  {
   "cell_type": "markdown",
   "metadata": {},
   "source": [
    "# Cloud Optical Thickness"
   ]
  },
  {
   "cell_type": "code",
   "execution_count": 28,
   "metadata": {},
   "outputs": [],
   "source": [
    "X_train, X_test, y_train, y_test = train_test_split(data[[ 'IMG_VIS', 'IMG_SWIR', 'Sun_Elevation',\n",
    "                                                              'Sat_Elevation', 'Sat_Azimuth', 'Sun_Azimuth']],\n",
    "                                                     data['cot'], test_size=0.1, random_state=42)"
   ]
  },
  {
   "cell_type": "code",
   "execution_count": 37,
   "metadata": {},
   "outputs": [
    {
     "data": {
      "text/plain": [
       "StandardScaler(copy=True, with_mean=True, with_std=True)"
      ]
     },
     "execution_count": 37,
     "metadata": {},
     "output_type": "execute_result"
    }
   ],
   "source": [
    "from sklearn.preprocessing import StandardScaler\n",
    "scaler = StandardScaler()\n",
    "scaler.fit(X_train)"
   ]
  },
  {
   "cell_type": "code",
   "execution_count": 39,
   "metadata": {},
   "outputs": [],
   "source": [
    "X_train=scaler.transform(X_train)\n",
    "X_test=scaler.transform(X_test)"
   ]
  },
  {
   "cell_type": "code",
   "execution_count": null,
   "metadata": {},
   "outputs": [],
   "source": []
  },
  {
   "cell_type": "code",
   "execution_count": 40,
   "metadata": {},
   "outputs": [],
   "source": [
    " xgb=XGBRegressor( learning_rate =0.01, n_estimators=2000, max_depth=9,\n",
    "                  min_child_weight=5, gamma=0,colsample_bytree =0.75, subsample = 0.8,reg_alpha=110,\n",
    "                 objective= 'reg:linear', nthread=4, scale_pos_weight=1, seed=27)"
   ]
  },
  {
   "cell_type": "code",
   "execution_count": 41,
   "metadata": {},
   "outputs": [
    {
     "name": "stderr",
     "output_type": "stream",
     "text": [
      "C:\\Users\\vipul\\Anaconda3\\lib\\site-packages\\xgboost\\core.py:587: FutureWarning: Series.base is deprecated and will be removed in a future version\n",
      "  if getattr(data, 'base', None) is not None and \\\n"
     ]
    },
    {
     "name": "stdout",
     "output_type": "stream",
     "text": [
      "[15:35:46] WARNING: C:/Jenkins/workspace/xgboost-win64_release_0.90/src/objective/regression_obj.cu:152: reg:linear is now deprecated in favor of reg:squarederror.\n"
     ]
    },
    {
     "data": {
      "text/plain": [
       "XGBRegressor(base_score=0.5, booster='gbtree', colsample_bylevel=1,\n",
       "             colsample_bynode=1, colsample_bytree=0.75, gamma=0,\n",
       "             importance_type='gain', learning_rate=0.01, max_delta_step=0,\n",
       "             max_depth=9, min_child_weight=5, missing=None, n_estimators=2000,\n",
       "             n_jobs=1, nthread=4, objective='reg:linear', random_state=0,\n",
       "             reg_alpha=110, reg_lambda=1, scale_pos_weight=1, seed=27,\n",
       "             silent=None, subsample=0.8, verbosity=1)"
      ]
     },
     "execution_count": 41,
     "metadata": {},
     "output_type": "execute_result"
    }
   ],
   "source": [
    "xgb.fit(X_train,y_train)"
   ]
  },
  {
   "cell_type": "code",
   "execution_count": 42,
   "metadata": {},
   "outputs": [
    {
     "data": {
      "text/plain": [
       "0.9444761067386037"
      ]
     },
     "execution_count": 42,
     "metadata": {},
     "output_type": "execute_result"
    }
   ],
   "source": [
    "xgb.score(X_train,y_train)"
   ]
  },
  {
   "cell_type": "code",
   "execution_count": 43,
   "metadata": {},
   "outputs": [
    {
     "data": {
      "text/plain": [
       "0.777921334357036"
      ]
     },
     "execution_count": 43,
     "metadata": {},
     "output_type": "execute_result"
    }
   ],
   "source": [
    "xgb.score(X_test,y_test)"
   ]
  },
  {
   "cell_type": "code",
   "execution_count": 33,
   "metadata": {},
   "outputs": [],
   "source": [
    "from sklearn.metrics import mean_absolute_error\n",
    "from sklearn.metrics import r2_score"
   ]
  },
  {
   "cell_type": "code",
   "execution_count": 34,
   "metadata": {},
   "outputs": [
    {
     "data": {
      "text/plain": [
       "18.826488121103218"
      ]
     },
     "execution_count": 34,
     "metadata": {},
     "output_type": "execute_result"
    }
   ],
   "source": [
    "np.sqrt(mean_absolute_error(xgb.predict(X_test),y_test))"
   ]
  },
  {
   "cell_type": "code",
   "execution_count": 35,
   "metadata": {},
   "outputs": [
    {
     "data": {
      "image/png": "[encoded data removed]",
      "text/plain": [
       "<Figure size 432x288 with 1 Axes>"
      ]
     },
     "metadata": {
      "needs_background": "light"
     },
     "output_type": "display_data"
    }
   ],
   "source": [
    "#xy = np.vstack([xgb.predict(X_train),y_train])\n",
    "#z = gaussian_kde(xy)(xy)\n",
    "plt.scatter(xgb.predict(X_test),y_test)\n",
    "#lt.plot([[0],[6000]])\n",
    "plt.show()"
   ]
  },
  {
   "cell_type": "code",
   "execution_count": null,
   "metadata": {},
   "outputs": [],
   "source": []
  },
  {
   "cell_type": "markdown",
   "metadata": {},
   "source": [
    "# Cloud Effective Radius\n"
   ]
  },
  {
   "cell_type": "code",
   "execution_count": 21,
   "metadata": {},
   "outputs": [],
   "source": [
    "X_train1, X_test1, y_train1, y_test1 = train_test_split(data[[ 'IMG_VIS', 'IMG_SWIR', 'Sun_Elevation',\n",
    "                                                              'Sat_Elevation', 'Sat_Azimuth', 'Sun_Azimuth']],\n",
    "                                                     data['cer'], test_size=0.1, random_state=42)"
   ]
  },
  {
   "cell_type": "code",
   "execution_count": 44,
   "metadata": {},
   "outputs": [
    {
     "data": {
      "text/plain": [
       "StandardScaler(copy=True, with_mean=True, with_std=True)"
      ]
     },
     "execution_count": 44,
     "metadata": {},
     "output_type": "execute_result"
    }
   ],
   "source": [
    "from sklearn.preprocessing import StandardScaler\n",
    "scaler1 = StandardScaler()\n",
    "scaler1.fit(X_train1)"
   ]
  },
  {
   "cell_type": "code",
   "execution_count": 45,
   "metadata": {},
   "outputs": [],
   "source": [
    "X_train1=scaler1.transform(X_train1)\n",
    "X_test1=scaler1.transform(X_test1)"
   ]
  },
  {
   "cell_type": "code",
   "execution_count": 46,
   "metadata": {},
   "outputs": [],
   "source": [
    " xgb1=XGBRegressor( learning_rate =0.01, n_estimators=1000, max_depth=9,\n",
    "                  min_child_weight=5, gamma=0.3,colsample_bytree =0.75, subsample = 0.8,reg_alpha=105,\n",
    "                 objective= 'reg:linear', nthread=4, scale_pos_weight=1, seed=27)"
   ]
  },
  {
   "cell_type": "code",
   "execution_count": 47,
   "metadata": {
    "scrolled": true
   },
   "outputs": [
    {
     "name": "stderr",
     "output_type": "stream",
     "text": [
      "C:\\Users\\vipul\\Anaconda3\\lib\\site-packages\\xgboost\\core.py:587: FutureWarning: Series.base is deprecated and will be removed in a future version\n",
      "  if getattr(data, 'base', None) is not None and \\\n"
     ]
    },
    {
     "name": "stdout",
     "output_type": "stream",
     "text": [
      "[15:37:05] WARNING: C:/Jenkins/workspace/xgboost-win64_release_0.90/src/objective/regression_obj.cu:152: reg:linear is now deprecated in favor of reg:squarederror.\n"
     ]
    },
    {
     "data": {
      "text/plain": [
       "XGBRegressor(base_score=0.5, booster='gbtree', colsample_bylevel=1,\n",
       "             colsample_bynode=1, colsample_bytree=0.75, gamma=0.3,\n",
       "             importance_type='gain', learning_rate=0.01, max_delta_step=0,\n",
       "             max_depth=9, min_child_weight=5, missing=None, n_estimators=1000,\n",
       "             n_jobs=1, nthread=4, objective='reg:linear', random_state=0,\n",
       "             reg_alpha=105, reg_lambda=1, scale_pos_weight=1, seed=27,\n",
       "             silent=None, subsample=0.8, verbosity=1)"
      ]
     },
     "execution_count": 47,
     "metadata": {},
     "output_type": "execute_result"
    }
   ],
   "source": [
    "xgb1.fit(X_train1,y_train1)"
   ]
  },
  {
   "cell_type": "code",
   "execution_count": 48,
   "metadata": {},
   "outputs": [
    {
     "data": {
      "text/plain": [
       "0.9194324316526661"
      ]
     },
     "execution_count": 48,
     "metadata": {},
     "output_type": "execute_result"
    }
   ],
   "source": [
    "xgb1.score(X_train1,y_train1)"
   ]
  },
  {
   "cell_type": "code",
   "execution_count": 49,
   "metadata": {},
   "outputs": [
    {
     "data": {
      "text/plain": [
       "0.689238389121216"
      ]
     },
     "execution_count": 49,
     "metadata": {},
     "output_type": "execute_result"
    }
   ],
   "source": [
    "xgb1.score(X_test1,y_test1)"
   ]
  },
  {
   "cell_type": "code",
   "execution_count": 50,
   "metadata": {},
   "outputs": [
    {
     "data": {
      "text/plain": [
       "0.689238389121216"
      ]
     },
     "execution_count": 50,
     "metadata": {},
     "output_type": "execute_result"
    }
   ],
   "source": [
    "r2_score(y_test1,xgb1.predict(X_test1))"
   ]
  },
  {
   "cell_type": "code",
   "execution_count": 51,
   "metadata": {},
   "outputs": [
    {
     "data": {
      "text/plain": [
       "23.289863378909207"
      ]
     },
     "execution_count": 51,
     "metadata": {},
     "output_type": "execute_result"
    }
   ],
   "source": [
    "np.sqrt(mean_absolute_error(xgb1.predict(X_test1),y_test1))"
   ]
  },
  {
   "cell_type": "code",
   "execution_count": 52,
   "metadata": {},
   "outputs": [
    {
     "data": {
      "image/png": "[encoded data removed]",
      "text/plain": [
       "<Figure size 432x288 with 1 Axes>"
      ]
     },
     "metadata": {
      "needs_background": "light"
     },
     "output_type": "display_data"
    }
   ],
   "source": [
    "plt.scatter(xgb1.predict(X_test1),y_test1)\n",
    "#lt.plot([[0],[6000]])\n",
    "plt.show()"
   ]
  },
  {
   "cell_type": "code",
   "execution_count": null,
   "metadata": {},
   "outputs": [],
   "source": []
  },
  {
   "cell_type": "code",
   "execution_count": null,
   "metadata": {},
   "outputs": [],
   "source": []
  }
 ],
 "metadata": {
  "kernelspec": {
   "display_name": "Python 3",
   "language": "python",
   "name": "python3"
  },
  "language_info": {
   "codemirror_mode": {
    "name": "ipython",
    "version": 3
   },
   "file_extension": ".py",
   "mimetype": "text/x-python",
   "name": "python",
   "nbconvert_exporter": "python",
   "pygments_lexer": "ipython3",
   "version": "3.7.4"
  }
 },
 "nbformat": 4,
 "nbformat_minor": 2
}
