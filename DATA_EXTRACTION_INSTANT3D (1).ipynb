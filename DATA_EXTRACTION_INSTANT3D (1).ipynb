{
 "cells": [
  {
   "cell_type": "code",
   "execution_count": 1,
   "metadata": {},
   "outputs": [],
   "source": [
    "\n",
    "import numpy as np\n",
    "import h5py\n",
    "import pandas as pd\n",
    "import matplotlib.pyplot as plt"
   ]
  },
  {
   "cell_type": "code",
   "execution_count": 30,
   "metadata": {},
   "outputs": [],
   "source": [
    "\n",
    "def area(file,lat1,lat2,long1,long2,p):\n",
    "    f=h5py.File(file)\n",
    "    lat = f[\"Latitude\"]\n",
    "    lat=np.array(lat)\n",
    "    #print(lat.shape)\n",
    "    log=f[\"Longitude\"]\n",
    "    log=np.array(log)\n",
    "    #print(log.shape)\n",
    "    lst = f[p]\n",
    "    lst=np.array(lst)\n",
    "    #print(lst.shape)\n",
    "    #lst=lst.reshape(2816,2805)\n",
    "    \n",
    "    lat=lat.flatten()\n",
    "    log=log.flatten()\n",
    "    lst=lst.flatten()\n",
    "    #print(lat.shape)\n",
    "    #print(log.shape)\n",
    "    #print(lst.shape)\n",
    "    lat=pd.DataFrame(lat)\n",
    "    log=pd.DataFrame(log)\n",
    "    lst=pd.DataFrame(lst)\n",
    "    print(lat.shape)\n",
    "    print(log.shape)\n",
    "    print(lst.shape)\n",
    "    df=pd.concat([lat,log,lst],axis=1)\n",
    "    print(df.shape)\n",
    "    df.columns=['lat','log',p]\n",
    "  #df['date']=date\n",
    "  #idx1=lat<=lat2\n",
    "  #idx2=lat1<lat\n",
    "  #idx3=log<=long2\n",
    "  #idx4=long1<log\n",
    "\n",
    "  #idx1=idx1.astype(bool)*idx2.astype(bool)\n",
    "  #idx3=idx3.astype(bool)*idx4.astype(bool)\n",
    "  #idx=idx1.astype(bool)*idx3.astype(bool)\n",
    "  #df=lst*idx.astype(bool)\n",
    "  #print(np.argwhere(idx3))\n",
    "  \n",
    "  #print(df.head())\n",
    "    df=df[df.lat.values<=lat2]\n",
    "    df=df[lat1<=df.lat.values]\n",
    "    print(df.shape)\n",
    "  #print(df.dtypes)\n",
    "    df=df[df.log.values<=long2]\n",
    "    df=df[long1<=df.log.values]\n",
    "    #df['location']=p;\n",
    "    print(df.shape)\n",
    "    return df\n"
   ]
  },
  {
   "cell_type": "code",
   "execution_count": 31,
   "metadata": {},
   "outputs": [
    {
     "name": "stderr",
     "output_type": "stream",
     "text": [
      "C:\\Users\\vipul\\Anaconda3\\lib\\site-packages\\ipykernel_launcher.py:1: H5pyDeprecationWarning: The default file mode will change to 'r' (read-only) in h5py 3.0. To suppress this warning, pass the mode you need to h5py.File(), or set the global default h5.get_config().default_file_mode, or set the environment variable H5PY_DEFAULT_READONLY=1. Available modes are: 'r', 'r+', 'w', 'w-'/'x', 'a'. See the docs for details.\n",
      "  \"\"\"Entry point for launching an IPython kernel.\n"
     ]
    }
   ],
   "source": [
    "f=h5py.File('C:/Users/vipul/Downloads/3DIMG_12JUL2016_0600_L1B_STD.h5')"
   ]
  },
  {
   "cell_type": "code",
   "execution_count": 32,
   "metadata": {},
   "outputs": [
    {
     "data": {
      "text/plain": [
       "<HDF5 file \"3DIMG_12JUL2016_0600_L1B_STD.h5\" (mode r+)>"
      ]
     },
     "execution_count": 32,
     "metadata": {},
     "output_type": "execute_result"
    }
   ],
   "source": [
    "f"
   ]
  },
  {
   "cell_type": "code",
   "execution_count": 33,
   "metadata": {},
   "outputs": [
    {
     "data": {
      "text/plain": [
       "<KeysViewHDF5 ['GeoX', 'GeoX1', 'GeoX2', 'GeoY', 'GeoY1', 'GeoY2', 'GreyCount', 'IMG_MIR', 'IMG_MIR_RADIANCE', 'IMG_MIR_TEMP', 'IMG_SWIR', 'IMG_SWIR_RADIANCE', 'IMG_TIR1', 'IMG_TIR1_RADIANCE', 'IMG_TIR1_TEMP', 'IMG_TIR2', 'IMG_TIR2_RADIANCE', 'IMG_TIR2_TEMP', 'IMG_VIS', 'IMG_VIS_ALBEDO', 'IMG_VIS_RADIANCE', 'IMG_WV', 'IMG_WV_RADIANCE', 'IMG_WV_TEMP', 'Latitude', 'Latitude_VIS', 'Latitude_WV', 'Longitude', 'Longitude_VIS', 'Longitude_WV', 'SCAN_LINE_TIME', 'Sat_Azimuth', 'Sat_Elevation', 'Sun_Azimuth', 'Sun_Elevation', 'time']>"
      ]
     },
     "execution_count": 33,
     "metadata": {},
     "output_type": "execute_result"
    }
   ],
   "source": [
    "f.keys()"
   ]
  },
  {
   "cell_type": "code",
   "execution_count": 40,
   "metadata": {},
   "outputs": [
    {
     "name": "stderr",
     "output_type": "stream",
     "text": [
      "C:\\Users\\vipul\\Anaconda3\\lib\\site-packages\\ipykernel_launcher.py:2: H5pyDeprecationWarning: The default file mode will change to 'r' (read-only) in h5py 3.0. To suppress this warning, pass the mode you need to h5py.File(), or set the global default h5.get_config().default_file_mode, or set the environment variable H5PY_DEFAULT_READONLY=1. Available modes are: 'r', 'r+', 'w', 'w-'/'x', 'a'. See the docs for details.\n",
      "  \n"
     ]
    },
    {
     "name": "stdout",
     "output_type": "stream",
     "text": [
      "(7898880, 1)\n",
      "(7898880, 1)\n",
      "(7898880, 1)\n",
      "(7898880, 3)\n",
      "(1109544, 3)\n",
      "(305004, 3)\n"
     ]
    }
   ],
   "source": [
    "SWIR=area('C:/Users/vipul/Downloads/3DIMG_12JUL2016_0600_L1B_STD.h5',1607,3688,5820,8540,'Sun_Elevation')"
   ]
  },
  {
   "cell_type": "code",
   "execution_count": 41,
   "metadata": {},
   "outputs": [],
   "source": [
    "SWIR.to_csv(\"Sun_Elevation.csv\")"
   ]
  },
  {
   "cell_type": "code",
   "execution_count": 14,
   "metadata": {},
   "outputs": [
    {
     "data": {
      "text/plain": [
       "<HDF5 dataset \"IMG_SWIR\": shape (1, 11264, 11220), type \"<u2\">"
      ]
     },
     "execution_count": 14,
     "metadata": {},
     "output_type": "execute_result"
    }
   ],
   "source": [
    "f['IMG_SWIR']"
   ]
  },
  {
   "cell_type": "code",
   "execution_count": 10,
   "metadata": {},
   "outputs": [],
   "source": [
    "lat=(np.array(f['Latitude']))"
   ]
  },
  {
   "cell_type": "code",
   "execution_count": 11,
   "metadata": {},
   "outputs": [
    {
     "data": {
      "text/plain": [
       "1254791"
      ]
     },
     "execution_count": 11,
     "metadata": {},
     "output_type": "execute_result"
    }
   ],
   "source": [
    "((lat<=3114)*(lat>=1019)).sum()"
   ]
  },
  {
   "cell_type": "code",
   "execution_count": 170,
   "metadata": {},
   "outputs": [
    {
     "data": {
      "text/plain": [
       "85"
      ]
     },
     "execution_count": 170,
     "metadata": {},
     "output_type": "execute_result"
    }
   ],
   "source": [
    "(lat==6505).sum()"
   ]
  },
  {
   "cell_type": "code",
   "execution_count": 88,
   "metadata": {},
   "outputs": [
    {
     "data": {
      "text/plain": [
       "126382080"
      ]
     },
     "execution_count": 88,
     "metadata": {},
     "output_type": "execute_result"
    }
   ],
   "source": [
    "11264*11220"
   ]
  },
  {
   "cell_type": "code",
   "execution_count": 145,
   "metadata": {},
   "outputs": [
    {
     "data": {
      "text/plain": [
       " 327670    4947\n",
       " 22525        1\n",
       "-15667        1\n",
       "-27921        1\n",
       " 11543        1\n",
       "           ... \n",
       "-27280        1\n",
       " 27280        1\n",
       " 25233        1\n",
       " 29331        1\n",
       " 0            1\n",
       "Name: 1203, Length: 6318, dtype: int64"
      ]
     },
     "execution_count": 145,
     "metadata": {},
     "output_type": "execute_result"
    }
   ],
   "source": [
    "pd.DataFrame(lat)[1203].value_counts()"
   ]
  },
  {
   "cell_type": "code",
   "execution_count": null,
   "metadata": {},
   "outputs": [],
   "source": []
  }
 ],
 "metadata": {
  "kernelspec": {
   "display_name": "Python 3",
   "language": "python",
   "name": "python3"
  },
  "language_info": {
   "codemirror_mode": {
    "name": "ipython",
    "version": 3
   },
   "file_extension": ".py",
   "mimetype": "text/x-python",
   "name": "python",
   "nbconvert_exporter": "python",
   "pygments_lexer": "ipython3",
   "version": "3.7.4"
  }
 },
 "nbformat": 4,
 "nbformat_minor": 2
}
